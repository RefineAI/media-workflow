{
 "cells": [
  {
   "cell_type": "code",
   "execution_count": 1,
   "metadata": {
    "collapsed": false
   },
   "outputs": [],
   "source": [
    "'''Go through movie->features pipeline manually'''\n",
    "# First load the stimulus\n",
    "from pliers.tests.utils import get_test_data_path\n",
    "from os.path import join\n",
    "from pliers.stimuli.video import VideoStim\n",
    "from pliers.converters.video import VideoToAudioConverter, FrameSamplingConverter\n",
    "from pliers.converters.image import TesseractConverter\n",
    "from pliers.converters.api import WitTranscriptionConverter\n",
    "from pliers.extractors import ExtractorResult\n",
    "from pliers.extractors.image import VibranceExtractor\n",
    "from pliers.extractors.text import LengthExtractor\n",
    "from pliers.graph import Graph, Node\n",
    "\n",
    "filename = join(get_test_data_path(), 'video', 'obama_speech.mp4')\n",
    "video = VideoStim(filename)"
   ]
  },
  {
   "cell_type": "code",
   "execution_count": 2,
   "metadata": {
    "collapsed": false
   },
   "outputs": [
    {
     "name": "stdout",
     "output_type": "stream",
     "text": [
      "[MoviePy] Writing audio in /Users/quinnmac/Library/Python/2.7/lib/python/site-packages/pliers-0.0.1-py2.7.egg/pliers/tests/data/video/obama_speech.wav\n"
     ]
    },
    {
     "name": "stderr",
     "output_type": "stream",
     "text": [
      "100%|██████████| 193/193 [00:00<00:00, 1654.85it/s]"
     ]
    },
    {
     "name": "stdout",
     "output_type": "stream",
     "text": [
      "[MoviePy] Done.\n"
     ]
    },
    {
     "name": "stderr",
     "output_type": "stream",
     "text": [
      "\n"
     ]
    }
   ],
   "source": [
    "# Extract the audio\n",
    "conv = VideoToAudioConverter()\n",
    "audio = conv.transform(video)"
   ]
  },
  {
   "cell_type": "code",
   "execution_count": 3,
   "metadata": {
    "collapsed": false
   },
   "outputs": [],
   "source": [
    "# Subsample the video\n",
    "conv = FrameSamplingConverter(every=15)\n",
    "derived = conv.transform(video)"
   ]
  },
  {
   "cell_type": "code",
   "execution_count": 4,
   "metadata": {
    "collapsed": false
   },
   "outputs": [],
   "source": [
    "# Extract text from the video\n",
    "conv = TesseractConverter()\n",
    "visual_texts = []\n",
    "for frame in derived:\n",
    "    visual_texts.append(conv.transform(frame))"
   ]
  },
  {
   "cell_type": "code",
   "execution_count": 5,
   "metadata": {
    "collapsed": false
   },
   "outputs": [],
   "source": [
    "# Extract text from the audio\n",
    "conv = WitTranscriptionConverter()\n",
    "audio_text = conv.transform(audio)"
   ]
  },
  {
   "cell_type": "code",
   "execution_count": 6,
   "metadata": {
    "collapsed": false
   },
   "outputs": [],
   "source": [
    "# Extract a low-level image feature from each frame\n",
    "ext = VibranceExtractor()\n",
    "visual_features = []\n",
    "for frame in derived:\n",
    "    visual_features.append(ext.transform(frame))"
   ]
  },
  {
   "cell_type": "code",
   "execution_count": 7,
   "metadata": {
    "collapsed": false
   },
   "outputs": [],
   "source": [
    "# Extract word length from both audio and visual text\n",
    "ext = LengthExtractor()\n",
    "visual_length = [ext.transform(t) for t in visual_texts]\n",
    "audio_length = [ext.transform(t) for t in audio_text]"
   ]
  },
  {
   "cell_type": "code",
   "execution_count": 8,
   "metadata": {
    "collapsed": false
   },
   "outputs": [
    {
     "name": "stdout",
     "output_type": "stream",
     "text": [
      "                       onset  duration    vibrance\n",
      "  stim                                            \n",
      "0 obama_speech.mp4_0    0.00       NaN  418.851528\n",
      "  obama_speech.mp4_15   1.25       NaN  441.618626\n",
      "  obama_speech.mp4_30   2.50       NaN  506.321013\n",
      "  obama_speech.mp4_45   3.75       NaN  575.903070\n",
      "  obama_speech.mp4_60   5.00       NaN  586.500651\n",
      "  obama_speech.mp4_75   6.25       NaN  590.007483\n",
      "  obama_speech.mp4_90   7.50       NaN  589.524823\n",
      "                                                      onset  duration  \\\n",
      "  stim                                                                  \n",
      "0 obama_speech.mp4_0_                                  0.00       NaN   \n",
      "  obama_speech.mp4_15_                                 1.25       NaN   \n",
      "  obama_speech.mp4_30_                                 2.50       NaN   \n",
      "  obama_speech.mp4_45_mslnsu-r onu‘ﬁ. SAVEIENV nu...   3.75       NaN   \n",
      "  obama_speech.mp4_60_1'\"\\nPIESIIIE Y' I' I ‘ s\\n...   5.00       NaN   \n",
      "  obama_speech.mp4_75_                                 6.25       NaN   \n",
      "  obama_speech.mp4_90_, 7 V\\nPnEslnEMJ'W min: an ...   7.50       NaN   \n",
      "\n",
      "                                                      text_length  \n",
      "  stim                                                             \n",
      "0 obama_speech.mp4_0_                                           0  \n",
      "  obama_speech.mp4_15_                                          0  \n",
      "  obama_speech.mp4_30_                                          0  \n",
      "  obama_speech.mp4_45_mslnsu-r onu‘ﬁ. SAVEIENV nu...           36  \n",
      "  obama_speech.mp4_60_1'\"\\nPIESIIIE Y' I' I ‘ s\\n...           56  \n",
      "  obama_speech.mp4_75_                                          0  \n",
      "  obama_speech.mp4_90_, 7 V\\nPnEslnEMJ'W min: an ...           36  \n",
      "                                                   onset  duration  \\\n",
      "  stim                                                               \n",
      "0 obama_speech.mp4_obama_speech.wav_today              0       NaN   \n",
      "  obama_speech.mp4_obama_speech.wav_after              1       NaN   \n",
      "  obama_speech.mp4_obama_speech.wav_two                2       NaN   \n",
      "  obama_speech.mp4_obama_speech.wav_years              3       NaN   \n",
      "  obama_speech.mp4_obama_speech.wav_of                 4       NaN   \n",
      "  obama_speech.mp4_obama_speech.wav_negotiations       5       NaN   \n",
      "  obama_speech.mp4_obama_speech.wav_the                6       NaN   \n",
      "  obama_speech.mp4_obama_speech.wav_united             7       NaN   \n",
      "  obama_speech.mp4_obama_speech.wav_states             8       NaN   \n",
      "  obama_speech.mp4_obama_speech.wav_together           9       NaN   \n",
      "  obama_speech.mp4_obama_speech.wav_or                10       NaN   \n",
      "  obama_speech.mp4_obama_speech.wav_international     11       NaN   \n",
      "  obama_speech.mp4_obama_speech.wav_partners          12       NaN   \n",
      "  obama_speech.mp4_obama_speech.wav_who               13       NaN   \n",
      "  obama_speech.mp4_obama_speech.wav_cheats            14       NaN   \n",
      "\n",
      "                                                   text_length  \n",
      "  stim                                                          \n",
      "0 obama_speech.mp4_obama_speech.wav_today                    5  \n",
      "  obama_speech.mp4_obama_speech.wav_after                    5  \n",
      "  obama_speech.mp4_obama_speech.wav_two                      3  \n",
      "  obama_speech.mp4_obama_speech.wav_years                    5  \n",
      "  obama_speech.mp4_obama_speech.wav_of                       2  \n",
      "  obama_speech.mp4_obama_speech.wav_negotiations            12  \n",
      "  obama_speech.mp4_obama_speech.wav_the                      3  \n",
      "  obama_speech.mp4_obama_speech.wav_united                   6  \n",
      "  obama_speech.mp4_obama_speech.wav_states                   6  \n",
      "  obama_speech.mp4_obama_speech.wav_together                 8  \n",
      "  obama_speech.mp4_obama_speech.wav_or                       2  \n",
      "  obama_speech.mp4_obama_speech.wav_international           13  \n",
      "  obama_speech.mp4_obama_speech.wav_partners                 8  \n",
      "  obama_speech.mp4_obama_speech.wav_who                      3  \n",
      "  obama_speech.mp4_obama_speech.wav_cheats                   6  \n"
     ]
    }
   ],
   "source": [
    "# Merge and display results\n",
    "print ExtractorResult.merge_stims(visual_features)\n",
    "print ExtractorResult.merge_stims(visual_length)\n",
    "print ExtractorResult.merge_stims(audio_length)"
   ]
  },
  {
   "cell_type": "code",
   "execution_count": 9,
   "metadata": {
    "collapsed": false
   },
   "outputs": [
    {
     "name": "stdout",
     "output_type": "stream",
     "text": [
      "[MoviePy] Writing audio in /Users/quinnmac/Library/Python/2.7/lib/python/site-packages/pliers-0.0.1-py2.7.egg/pliers/tests/data/video/obama_speech.wav\n"
     ]
    },
    {
     "name": "stderr",
     "output_type": "stream",
     "text": [
      "100%|██████████| 193/193 [00:00<00:00, 1710.80it/s]"
     ]
    },
    {
     "name": "stdout",
     "output_type": "stream",
     "text": [
      "[MoviePy] Done.\n"
     ]
    },
    {
     "name": "stderr",
     "output_type": "stream",
     "text": [
      "\n"
     ]
    },
    {
     "data": {
      "text/html": [
       "<div>\n",
       "<table border=\"1\" class=\"dataframe\">\n",
       "  <thead>\n",
       "    <tr>\n",
       "      <th></th>\n",
       "      <th></th>\n",
       "      <th>LengthExtractor</th>\n",
       "      <th>VibranceExtractor</th>\n",
       "      <th>onset</th>\n",
       "    </tr>\n",
       "    <tr>\n",
       "      <th></th>\n",
       "      <th></th>\n",
       "      <th>text_length</th>\n",
       "      <th>vibrance</th>\n",
       "      <th></th>\n",
       "    </tr>\n",
       "    <tr>\n",
       "      <th></th>\n",
       "      <th>stim</th>\n",
       "      <th></th>\n",
       "      <th></th>\n",
       "      <th></th>\n",
       "    </tr>\n",
       "  </thead>\n",
       "  <tbody>\n",
       "    <tr>\n",
       "      <th rowspan=\"29\" valign=\"top\">0</th>\n",
       "      <th>obama_speech.mp4_60</th>\n",
       "      <td>NaN</td>\n",
       "      <td>586.500651</td>\n",
       "      <td>5.00</td>\n",
       "    </tr>\n",
       "    <tr>\n",
       "      <th>obama_speech.mp4_obama_speech.wav_today</th>\n",
       "      <td>5</td>\n",
       "      <td>NaN</td>\n",
       "      <td>0.00</td>\n",
       "    </tr>\n",
       "    <tr>\n",
       "      <th>obama_speech.mp4_obama_speech.wav_together</th>\n",
       "      <td>8</td>\n",
       "      <td>NaN</td>\n",
       "      <td>9.00</td>\n",
       "    </tr>\n",
       "    <tr>\n",
       "      <th>obama_speech.mp4_60_1'\"\\nPIESIIIE Y' I' I ‘ s\\nt 1'. I)“; 555'} HEM on nun</th>\n",
       "      <td>56</td>\n",
       "      <td>NaN</td>\n",
       "      <td>5.00</td>\n",
       "    </tr>\n",
       "    <tr>\n",
       "      <th>obama_speech.mp4_obama_speech.wav_united</th>\n",
       "      <td>6</td>\n",
       "      <td>NaN</td>\n",
       "      <td>7.00</td>\n",
       "    </tr>\n",
       "    <tr>\n",
       "      <th>obama_speech.mp4_obama_speech.wav_cheats</th>\n",
       "      <td>6</td>\n",
       "      <td>NaN</td>\n",
       "      <td>14.00</td>\n",
       "    </tr>\n",
       "    <tr>\n",
       "      <th>obama_speech.mp4_obama_speech.wav_the</th>\n",
       "      <td>3</td>\n",
       "      <td>NaN</td>\n",
       "      <td>6.00</td>\n",
       "    </tr>\n",
       "    <tr>\n",
       "      <th>obama_speech.mp4_obama_speech.wav_who</th>\n",
       "      <td>3</td>\n",
       "      <td>NaN</td>\n",
       "      <td>13.00</td>\n",
       "    </tr>\n",
       "    <tr>\n",
       "      <th>obama_speech.mp4_45</th>\n",
       "      <td>NaN</td>\n",
       "      <td>575.903070</td>\n",
       "      <td>3.75</td>\n",
       "    </tr>\n",
       "    <tr>\n",
       "      <th>obama_speech.mp4_45_mslnsu-r onu‘ﬁ. SAVEIENV nu IRAN</th>\n",
       "      <td>36</td>\n",
       "      <td>NaN</td>\n",
       "      <td>3.75</td>\n",
       "    </tr>\n",
       "    <tr>\n",
       "      <th>obama_speech.mp4_obama_speech.wav_or</th>\n",
       "      <td>2</td>\n",
       "      <td>NaN</td>\n",
       "      <td>10.00</td>\n",
       "    </tr>\n",
       "    <tr>\n",
       "      <th>obama_speech.mp4_15</th>\n",
       "      <td>NaN</td>\n",
       "      <td>441.618626</td>\n",
       "      <td>1.25</td>\n",
       "    </tr>\n",
       "    <tr>\n",
       "      <th>obama_speech.mp4_30_</th>\n",
       "      <td>0</td>\n",
       "      <td>NaN</td>\n",
       "      <td>2.50</td>\n",
       "    </tr>\n",
       "    <tr>\n",
       "      <th>obama_speech.mp4_obama_speech.wav_negotiations</th>\n",
       "      <td>12</td>\n",
       "      <td>NaN</td>\n",
       "      <td>5.00</td>\n",
       "    </tr>\n",
       "    <tr>\n",
       "      <th>obama_speech.mp4_30</th>\n",
       "      <td>NaN</td>\n",
       "      <td>506.321013</td>\n",
       "      <td>2.50</td>\n",
       "    </tr>\n",
       "    <tr>\n",
       "      <th>obama_speech.mp4_75_</th>\n",
       "      <td>0</td>\n",
       "      <td>NaN</td>\n",
       "      <td>6.25</td>\n",
       "    </tr>\n",
       "    <tr>\n",
       "      <th>obama_speech.mp4_obama_speech.wav_two</th>\n",
       "      <td>3</td>\n",
       "      <td>NaN</td>\n",
       "      <td>2.00</td>\n",
       "    </tr>\n",
       "    <tr>\n",
       "      <th>obama_speech.mp4_15_</th>\n",
       "      <td>0</td>\n",
       "      <td>NaN</td>\n",
       "      <td>1.25</td>\n",
       "    </tr>\n",
       "    <tr>\n",
       "      <th>obama_speech.mp4_obama_speech.wav_after</th>\n",
       "      <td>5</td>\n",
       "      <td>NaN</td>\n",
       "      <td>1.00</td>\n",
       "    </tr>\n",
       "    <tr>\n",
       "      <th>obama_speech.mp4_0</th>\n",
       "      <td>NaN</td>\n",
       "      <td>418.851528</td>\n",
       "      <td>0.00</td>\n",
       "    </tr>\n",
       "    <tr>\n",
       "      <th>obama_speech.mp4_obama_speech.wav_years</th>\n",
       "      <td>5</td>\n",
       "      <td>NaN</td>\n",
       "      <td>3.00</td>\n",
       "    </tr>\n",
       "    <tr>\n",
       "      <th>obama_speech.mp4_obama_speech.wav_partners</th>\n",
       "      <td>8</td>\n",
       "      <td>NaN</td>\n",
       "      <td>12.00</td>\n",
       "    </tr>\n",
       "    <tr>\n",
       "      <th>obama_speech.mp4_obama_speech.wav_states</th>\n",
       "      <td>6</td>\n",
       "      <td>NaN</td>\n",
       "      <td>8.00</td>\n",
       "    </tr>\n",
       "    <tr>\n",
       "      <th>obama_speech.mp4_obama_speech.wav_international</th>\n",
       "      <td>13</td>\n",
       "      <td>NaN</td>\n",
       "      <td>11.00</td>\n",
       "    </tr>\n",
       "    <tr>\n",
       "      <th>obama_speech.mp4_0_</th>\n",
       "      <td>0</td>\n",
       "      <td>NaN</td>\n",
       "      <td>0.00</td>\n",
       "    </tr>\n",
       "    <tr>\n",
       "      <th>obama_speech.mp4_90</th>\n",
       "      <td>NaN</td>\n",
       "      <td>589.524823</td>\n",
       "      <td>7.50</td>\n",
       "    </tr>\n",
       "    <tr>\n",
       "      <th>obama_speech.mp4_obama_speech.wav_of</th>\n",
       "      <td>2</td>\n",
       "      <td>NaN</td>\n",
       "      <td>4.00</td>\n",
       "    </tr>\n",
       "    <tr>\n",
       "      <th>obama_speech.mp4_75</th>\n",
       "      <td>NaN</td>\n",
       "      <td>590.007483</td>\n",
       "      <td>6.25</td>\n",
       "    </tr>\n",
       "    <tr>\n",
       "      <th>obama_speech.mp4_90_, 7 V\\nPnEslnEMJ'W min: an Inn:\\nA ‘</th>\n",
       "      <td>36</td>\n",
       "      <td>NaN</td>\n",
       "      <td>7.50</td>\n",
       "    </tr>\n",
       "  </tbody>\n",
       "</table>\n",
       "</div>"
      ],
      "text/plain": [
       "                                                     LengthExtractor  \\\n",
       "                                                         text_length   \n",
       "  stim                                                                 \n",
       "0 obama_speech.mp4_60                                            NaN   \n",
       "  obama_speech.mp4_obama_speech.wav_today                          5   \n",
       "  obama_speech.mp4_obama_speech.wav_together                       8   \n",
       "  obama_speech.mp4_60_1'\"\\nPIESIIIE Y' I' I ‘ s\\n...              56   \n",
       "  obama_speech.mp4_obama_speech.wav_united                         6   \n",
       "  obama_speech.mp4_obama_speech.wav_cheats                         6   \n",
       "  obama_speech.mp4_obama_speech.wav_the                            3   \n",
       "  obama_speech.mp4_obama_speech.wav_who                            3   \n",
       "  obama_speech.mp4_45                                            NaN   \n",
       "  obama_speech.mp4_45_mslnsu-r onu‘ﬁ. SAVEIENV nu...              36   \n",
       "  obama_speech.mp4_obama_speech.wav_or                             2   \n",
       "  obama_speech.mp4_15                                            NaN   \n",
       "  obama_speech.mp4_30_                                             0   \n",
       "  obama_speech.mp4_obama_speech.wav_negotiations                  12   \n",
       "  obama_speech.mp4_30                                            NaN   \n",
       "  obama_speech.mp4_75_                                             0   \n",
       "  obama_speech.mp4_obama_speech.wav_two                            3   \n",
       "  obama_speech.mp4_15_                                             0   \n",
       "  obama_speech.mp4_obama_speech.wav_after                          5   \n",
       "  obama_speech.mp4_0                                             NaN   \n",
       "  obama_speech.mp4_obama_speech.wav_years                          5   \n",
       "  obama_speech.mp4_obama_speech.wav_partners                       8   \n",
       "  obama_speech.mp4_obama_speech.wav_states                         6   \n",
       "  obama_speech.mp4_obama_speech.wav_international                 13   \n",
       "  obama_speech.mp4_0_                                              0   \n",
       "  obama_speech.mp4_90                                            NaN   \n",
       "  obama_speech.mp4_obama_speech.wav_of                             2   \n",
       "  obama_speech.mp4_75                                            NaN   \n",
       "  obama_speech.mp4_90_, 7 V\\nPnEslnEMJ'W min: an ...              36   \n",
       "\n",
       "                                                     VibranceExtractor  onset  \n",
       "                                                              vibrance         \n",
       "  stim                                                                         \n",
       "0 obama_speech.mp4_60                                       586.500651   5.00  \n",
       "  obama_speech.mp4_obama_speech.wav_today                          NaN   0.00  \n",
       "  obama_speech.mp4_obama_speech.wav_together                       NaN   9.00  \n",
       "  obama_speech.mp4_60_1'\"\\nPIESIIIE Y' I' I ‘ s\\n...               NaN   5.00  \n",
       "  obama_speech.mp4_obama_speech.wav_united                         NaN   7.00  \n",
       "  obama_speech.mp4_obama_speech.wav_cheats                         NaN  14.00  \n",
       "  obama_speech.mp4_obama_speech.wav_the                            NaN   6.00  \n",
       "  obama_speech.mp4_obama_speech.wav_who                            NaN  13.00  \n",
       "  obama_speech.mp4_45                                       575.903070   3.75  \n",
       "  obama_speech.mp4_45_mslnsu-r onu‘ﬁ. SAVEIENV nu...               NaN   3.75  \n",
       "  obama_speech.mp4_obama_speech.wav_or                             NaN  10.00  \n",
       "  obama_speech.mp4_15                                       441.618626   1.25  \n",
       "  obama_speech.mp4_30_                                             NaN   2.50  \n",
       "  obama_speech.mp4_obama_speech.wav_negotiations                   NaN   5.00  \n",
       "  obama_speech.mp4_30                                       506.321013   2.50  \n",
       "  obama_speech.mp4_75_                                             NaN   6.25  \n",
       "  obama_speech.mp4_obama_speech.wav_two                            NaN   2.00  \n",
       "  obama_speech.mp4_15_                                             NaN   1.25  \n",
       "  obama_speech.mp4_obama_speech.wav_after                          NaN   1.00  \n",
       "  obama_speech.mp4_0                                        418.851528   0.00  \n",
       "  obama_speech.mp4_obama_speech.wav_years                          NaN   3.00  \n",
       "  obama_speech.mp4_obama_speech.wav_partners                       NaN  12.00  \n",
       "  obama_speech.mp4_obama_speech.wav_states                         NaN   8.00  \n",
       "  obama_speech.mp4_obama_speech.wav_international                  NaN  11.00  \n",
       "  obama_speech.mp4_0_                                              NaN   0.00  \n",
       "  obama_speech.mp4_90                                       589.524823   7.50  \n",
       "  obama_speech.mp4_obama_speech.wav_of                             NaN   4.00  \n",
       "  obama_speech.mp4_75                                       590.007483   6.25  \n",
       "  obama_speech.mp4_90_, 7 V\\nPnEslnEMJ'W min: an ...               NaN   7.50  "
      ]
     },
     "execution_count": 9,
     "metadata": {},
     "output_type": "execute_result"
    }
   ],
   "source": [
    "# Graph way of doing the same pipeline\n",
    "visual_nodes = [(FrameSamplingConverter(every=15), 'framesampling', \n",
    "             [(TesseractConverter(), 'visual_text', \n",
    "                [(LengthExtractor(), 'text_length')]), \n",
    "              (VibranceExtractor(), 'visual_vibrance')])]\n",
    "audio_nodes = [(VideoToAudioConverter(), 'audio', \n",
    "            [(WitTranscriptionConverter(), 'audio_text', \n",
    "              [(LengthExtractor(), 'text_length')])])]\n",
    "\n",
    "graph = Graph()\n",
    "graph.add_children(visual_nodes)\n",
    "graph.add_children(audio_nodes)\n",
    "graph.transform(video)"
   ]
  },
  {
   "cell_type": "code",
   "execution_count": null,
   "metadata": {
    "collapsed": true
   },
   "outputs": [],
   "source": [
    ""
   ]
  }
 ],
 "metadata": {
  "kernelspec": {
   "display_name": "Python 2",
   "language": "python",
   "name": "python2"
  },
  "language_info": {
   "codemirror_mode": {
    "name": "ipython",
    "version": 2.0
   },
   "file_extension": ".py",
   "mimetype": "text/x-python",
   "name": "python",
   "nbconvert_exporter": "python",
   "pygments_lexer": "ipython2",
   "version": "2.7.10"
  }
 },
 "nbformat": 4,
 "nbformat_minor": 0
}