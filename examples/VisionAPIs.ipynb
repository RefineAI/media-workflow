{
 "cells": [
  {
   "cell_type": "code",
   "execution_count": null,
   "metadata": {
    "collapsed": false
   },
   "outputs": [],
   "source": [
    "from pliers.extractors import ExtractorResult, merge_results\n",
    "from pliers.extractors.api import ClarifaiAPIExtractor\n",
    "from pliers.stimuli.image import ImageStim\n",
    "\n",
    "from pliers.tests.utils import get_test_data_path\n",
    "from os.path import join\n",
    "from glob import glob"
   ]
  },
  {
   "cell_type": "code",
   "execution_count": null,
   "metadata": {
    "collapsed": false
   },
   "outputs": [],
   "source": [
    "# Set up stimuli\n",
    "stim_path = join(get_test_data_path(), 'image', '*.jpg')\n",
    "stims = glob(stim_path)\n",
    "stims = [ImageStim(f) for f in stims]"
   ]
  },
  {
   "cell_type": "code",
   "execution_count": null,
   "metadata": {
    "collapsed": false
   },
   "outputs": [],
   "source": [
    "# Configure and run extractor\n",
    "ext = ClarifaiAPIExtractor(select_classes=['animal','equipment', 'person', 'apple'])\n",
    "results = [ext.transform(s) for s in stims]"
   ]
  },
  {
   "cell_type": "code",
   "execution_count": null,
   "metadata": {
    "collapsed": false
   },
   "outputs": [
    {
     "name": "stdout",
     "output_type": "stream",
     "text": [
      "Collinearity summary:\n",
      "             Eigenvalue  Condition index           VIF    animal  equipment  \\\n",
      "animal     3.193928e+00         1.000000  2.587584e+15  1.000000   0.999897   \n",
      "equipment  3.788948e-16  91812809.395169 -2.581809e+15  0.999897   1.000000   \n",
      "person     8.060716e-01         1.990562  3.121374e+15  0.951223   0.955561   \n",
      "apple     -1.235537e-16              NaN  3.518626e+14 -0.336158  -0.349667   \n",
      "\n",
      "             person     apple  \n",
      "animal     0.951223 -0.336158  \n",
      "equipment  0.955561 -0.349667  \n",
      "person     1.000000 -0.610313  \n",
      "apple     -0.610313  1.000000  \n",
      "Outlier summary:\n",
      "   stim      \n",
      "0  apple.jpg     0.976857\n",
      "   button.jpg    1.158645\n",
      "   obama.jpg     1.127160\n",
      "Name: Mahalanobis, dtype: float64\n",
      "animal       1.5\n",
      "equipment    1.5\n",
      "person       1.5\n",
      "apple        1.5\n",
      "Name: Mahalanobis, dtype: float64\n",
      "Validity summary:\n",
      "animal       0.008241\n",
      "equipment    0.151670\n",
      "person       0.010083\n",
      "apple        0.280302\n",
      "Name: Variances, dtype: float64\n"
     ]
    },
    {
     "data": {
      "text/plain": [
       "([], [0, 1, 2, 3])"
      ]
     },
     "execution_count": 4,
     "metadata": {},
     "output_type": "execute_result"
    }
   ],
   "source": [
    "# Run diagnostics on results\n",
    "from pliers.diagnostics import Diagnostics\n",
    "df = ExtractorResult.merge_stims(results)\n",
    "d = Diagnostics(df, columns=df.columns[2:])\n",
    "d.summary()\n",
    "d.flag_all(thresh_dict={'Variances':(lambda x: x < 0.05)})"
   ]
  },
  {
   "cell_type": "code",
   "execution_count": null,
   "metadata": {
    "collapsed": true
   },
   "outputs": [],
   "source": [
    ""
   ]
  }
 ],
 "metadata": {
  "kernelspec": {
   "display_name": "Python 2",
   "language": "python",
   "name": "python2"
  },
  "language_info": {
   "codemirror_mode": {
    "name": "ipython",
    "version": 2.0
   },
   "file_extension": ".py",
   "mimetype": "text/x-python",
   "name": "python",
   "nbconvert_exporter": "python",
   "pygments_lexer": "ipython2",
   "version": "2.7.10"
  }
 },
 "nbformat": 4,
 "nbformat_minor": 0
}